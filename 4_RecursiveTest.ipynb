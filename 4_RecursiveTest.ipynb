{
 "cells": [
  {
   "cell_type": "code",
   "execution_count": 17,
   "metadata": {
    "collapsed": true
   },
   "outputs": [],
   "source": [
    "import numpy as np\n",
    "import matplotlib.pyplot as plt # Core plotting support\n",
    "import math\n",
    "%matplotlib inline\n",
    "\n",
    "import numpy as np\n",
    "import sys\n",
    "sys.setrecursionlimit(100)\n",
    "N = 0\n",
    "np.random.seed(1611044230)"
   ]
  },
  {
   "cell_type": "code",
   "execution_count": 41,
   "metadata": {
    "collapsed": false
   },
   "outputs": [],
   "source": [
    "def find_local_dest(country):\n",
    "    if (country.shape[0] == 1 and country.shape[1]==1):\n",
    "        print(\"Base case\")\n",
    "        return country\n",
    "    \n",
    "    shape = country.shape\n",
    "    print(\"Shape\")\n",
    "    print(shape)\n",
    "    \n",
    "    if(country.shape[0] > 1):\n",
    "        x = shape[0] // 2\n",
    "    else: x = 1\n",
    "    \n",
    "    if(country.shape[1] > 1):\n",
    "        y = shape[1] // 2\n",
    "    else: y = 1\n",
    "    \n",
    "    global N;\n",
    "    N=N+1\n",
    "    print(N)\n",
    "    print(x)\n",
    "    print(y)\n",
    "    \n",
    "    countries = []\n",
    "    if(x == 1 and y!=1):\n",
    "        countries.append(country[0: x,0: y])\n",
    "        countries.append(country[0: x,y: shape[1]])\n",
    "    elif(y ==1 and x!=1):\n",
    "        countries.append(country[0: x,0: y])\n",
    "        countries.append(country[x :shape[0],0:y])\n",
    "    #elif(x == 1 and y == 1):\n",
    "        \n",
    "    else:\n",
    "        countries.append(country[0: x,0: y]) #Top Left\n",
    "        countries.append(country[x :shape[0],0:y])#Bottom Left\n",
    "        countries.append(country[0: x,y: shape[1]]) #Top Right\n",
    "        countries.append(country[x : shape[0], y:shape[1]]) # Bottom Right\n",
    "    #print(countries.shape)\n",
    "    \n",
    "    wealth = np.zeros(len(countries))\n",
    "    for i in range(len(countries)):\n",
    "        wealth[i] = np.sum(countries[i][:,:,2]) #/ (np.shape(countries[i])[0] * np.shape(countries[i])[1])\n",
    "    print(\"countries\")\n",
    "    print(len(countries))\n",
    "\n",
    "    print(\"Recurse\")\n",
    "    return find_local_dest(countries[np.argmax(wealth)])"
   ]
  },
  {
   "cell_type": "code",
   "execution_count": 42,
   "metadata": {
    "collapsed": false
   },
   "outputs": [
    {
     "name": "stdout",
     "output_type": "stream",
     "text": [
      "[[ 0.06219156  0.04343215  0.51416818  0.87749902  0.31926763  0.98962279\n",
      "   0.03562887]\n",
      " [ 0.5663304   0.46119214  0.38886715  0.02551803  0.47846414  0.08581288\n",
      "   0.03992905]\n",
      " [ 0.07325787  0.9784051   0.49215123  0.19461295  0.13052266  0.77498655\n",
      "   0.76599726]\n",
      " [ 0.66959946  0.06333674  0.40585949  0.05380445  0.00966933  0.31953377\n",
      "   0.04405857]\n",
      " [ 0.74510075  0.50597333  0.65275269  0.82741861  0.24600252  0.95292678\n",
      "   0.86962903]\n",
      " [ 0.28696182  0.44911838  0.56271117  0.39090761  0.51142916  0.16470645\n",
      "   0.21133201]\n",
      " [ 0.89006791  0.50734673  0.55721151  0.18157342  0.00590029  0.24155049\n",
      "   0.58412884]\n",
      " [ 0.89708689  0.26141449  0.82585668  0.46735215  0.24952634  0.74443504\n",
      "   0.87333468]\n",
      " [ 0.38353312  0.55953529  0.74131486  0.56335704  0.95595089  0.10765508\n",
      "   0.64945423]\n",
      " [ 0.87827599  0.62715422  0.45504998  0.72710744  0.11300207  0.07402168\n",
      "   0.51982448]\n",
      " [ 0.2825653   0.05242478  0.52851094  0.61944817  0.32788038  0.35892351\n",
      "   0.49135137]\n",
      " [ 0.46760244  0.69923169  0.50568661  0.99219253  0.63599466  0.19295535\n",
      "   0.19717092]\n",
      " [ 0.27588094  0.79957808  0.05198427  0.78088173  0.34152985  0.63252746\n",
      "   0.61542274]\n",
      " [ 0.03358203  0.78846506  0.57441823  0.63378313  0.05541824  0.79795088\n",
      "   0.5293464 ]\n",
      " [ 0.9518931   0.19818066  0.78899319  0.77312543  0.95656471  0.08557305\n",
      "   0.66688205]]\n",
      "(15, 7, 3)\n",
      "Shape\n",
      "(15, 7, 3)\n",
      "50\n",
      "7\n",
      "3\n",
      "countries\n",
      "4\n",
      "Recurse\n",
      "Shape\n",
      "(8, 4, 3)\n",
      "51\n",
      "4\n",
      "2\n",
      "countries\n",
      "4\n",
      "Recurse\n",
      "Shape\n",
      "(4, 2, 3)\n",
      "52\n",
      "2\n",
      "1\n",
      "countries\n",
      "2\n",
      "Recurse\n",
      "Shape\n",
      "(2, 1, 3)\n",
      "53\n",
      "1\n",
      "1\n",
      "countries\n",
      "4\n",
      "Recurse\n",
      "Base case\n",
      "[[[ 11.           3.           0.99219253]]]\n"
     ]
    }
   ],
   "source": [
    "a = np.random.rand(15,7)\n",
    "b = np.empty([15,7,3])\n",
    "for i in range(1,15):\n",
    "    for j in range(1,7):\n",
    "        b[i,j,:]=np.array([i, j, a[i,j]])\n",
    "print(a)        \n",
    "print(np.shape(b))\n",
    "print(find_local_dest(b))"
   ]
  },
  {
   "cell_type": "code",
   "execution_count": 16,
   "metadata": {
    "collapsed": false
   },
   "outputs": [
    {
     "name": "stdout",
     "output_type": "stream",
     "text": [
      "[ 1.  1.  1.  1.  1.  1.  1.  1.  1.  1.]\n",
      "[ 1.]\n"
     ]
    }
   ],
   "source": [
    "a=np.ones(10)\n",
    "print(a)\n",
    "print(a[0:1])"
   ]
  },
  {
   "cell_type": "code",
   "execution_count": null,
   "metadata": {
    "collapsed": true
   },
   "outputs": [],
   "source": []
  }
 ],
 "metadata": {
  "kernelspec": {
   "display_name": "IPython (Python 3)",
   "language": "python",
   "name": "python3"
  },
  "language_info": {
   "codemirror_mode": {
    "name": "ipython",
    "version": 3
   },
   "file_extension": ".py",
   "mimetype": "text/x-python",
   "name": "python",
   "nbconvert_exporter": "python",
   "pygments_lexer": "ipython3",
   "version": "3.5.1"
  }
 },
 "nbformat": 4,
 "nbformat_minor": 0
}

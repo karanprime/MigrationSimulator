{
 "cells": [
  {
   "cell_type": "markdown",
   "metadata": {},
   "source": [
    "# Gaussian Generator as proposed in Conceptual Model\n",
    "**Karan Shah and Kartikeya Kumar**\n",
    "\n",
    "p is the mean around which you want to make the Gaussian. It is bound between 0.0 and 1.0 (inclusive). Look at the conceptual model for more info."
   ]
  },
  {
   "cell_type": "code",
   "execution_count": 18,
   "metadata": {
    "collapsed": true
   },
   "outputs": [],
   "source": [
    "import numpy as np\n",
    "import matplotlib.pyplot as plt\n",
    "%matplotlib inline\n",
    "\n",
    "def create_distribution(size, p):\n",
    "    assert(p>=0.0 and p<=1.0),\"Straight outta bounds\"\n",
    "    sigma = 1\n",
    "    mu = 0\n",
    "    s = size\n",
    "    #s = np.ceil(size/(1-np.abs(0.5-p)))\n",
    "    #print(s)\n",
    "    x = np.linspace(0,1,s)\n",
    "    y=1/( np.sqrt(2 * np.pi) *np.exp((-6*p+6*x)**2 / 2))\n",
    "    y=y/0.4\n",
    "    #print(x)\n",
    "    #print(y)\n",
    "    plt.plot(x,y)\n",
    "    maxind = np.searchsorted(y,1.0)\n",
    "    minind = np.searchsorted(y,0.0)\n",
    "    #print(minind)\n",
    "    #print(maxind)\n",
    "    y=y[minind:maxind]\n",
    "    np.random.shuffle(y)\n",
    "    #print(y)\n",
    "    \n",
    "    print(\"Number of elements in the distribution between x=0 and x=1: \"+str(y.size))\n",
    "    #print(type(y))\n",
    "    #return y"
   ]
  },
  {
   "cell_type": "code",
   "execution_count": 19,
   "metadata": {
    "collapsed": false
   },
   "outputs": [
    {
     "name": "stdout",
     "output_type": "stream",
     "text": [
      "Number of elements in the distribution between x=0 and x=1: 1000\n"
     ]
    },
    {
     "data": {
      "text/plain": [
       "<function __main__.create_distribution>"
      ]
     },
     "execution_count": 19,
     "metadata": {},
     "output_type": "execute_result"
    },
    {
     "data": {
      "image/png": "[encoded data removed]",
      "text/plain": [
       "<matplotlib.figure.Figure at 0x107dd16d8>"
      ]
     },
     "metadata": {},
     "output_type": "display_data"
    }
   ],
   "source": [
    "from ipywidgets import interact\n",
    "interact (create_distribution\n",
    "          , size = (10,2000,10)\n",
    "          , p=(0.0, 1.0, 0.01)\n",
    "  \n",
    "         )"
   ]
  },
  {
   "cell_type": "code",
   "execution_count": null,
   "metadata": {
    "collapsed": true
   },
   "outputs": [],
   "source": []
  }
 ],
 "metadata": {
  "kernelspec": {
   "display_name": "IPython (Python 3)",
   "language": "python",
   "name": "python3"
  },
  "language_info": {
   "codemirror_mode": {
    "name": "ipython",
    "version": 3
   },
   "file_extension": ".py",
   "mimetype": "text/x-python",
   "name": "python",
   "nbconvert_exporter": "python",
   "pygments_lexer": "ipython3",
   "version": "3.5.1"
  }
 },
 "nbformat": 4,
 "nbformat_minor": 0
}

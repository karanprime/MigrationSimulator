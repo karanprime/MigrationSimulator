{
 "cells": [
  {
   "cell_type": "markdown",
   "metadata": {},
   "source": [
    "#  Project 3: Simulating Human Population Growth and Migration\n",
    "\n",
    "**by Kartikeya Kumar and Karan Shah**"
   ]
  },
  {
   "cell_type": "code",
   "execution_count": 1,
   "metadata": {
    "collapsed": true
   },
   "outputs": [],
   "source": [
    "import numpy as np\n",
    "import matplotlib.pyplot as plt # Core plotting support\n",
    "import math\n",
    "%matplotlib inline\n",
    "\n",
    "np.random.seed(1611044230)\n",
    "\n",
    "def show_grid (grid):\n",
    "    plt.matshow (grid)"
   ]
  },
  {
   "cell_type": "code",
   "execution_count": 2,
   "metadata": {
    "collapsed": false
   },
   "outputs": [],
   "source": [
    "#Global Variables\n",
    "num_countries = 8 #No of countries on the map\n",
    "M = 30 #Grid size M x N\n",
    "N = 30\n",
    "POP_LIMIT = 100 #Max number of people in each cell\n",
    "WEIGHTW = 0.75 #Weight of wealth difference\n",
    "WEIGHTP = 0.25 #Weight of population\n",
    "attributes = [\"Country No \" , \"Population Density\", \"Wealth Score\", \"Elevation\", \"Birth Rate1\",\"Birth Rate2\" ,\"Death Rate1\", \"Death Rate2\",  \"Population Counter\", \"Temperature\"]\n"
   ]
  },
  {
   "cell_type": "code",
   "execution_count": 3,
   "metadata": {
    "collapsed": false
   },
   "outputs": [],
   "source": [
    "# It takes in mean and size and returns a Gaussian distribution as proposed in conceptual model. \n",
    "# Check distributionGen.ipnyb for plots.\n",
    "\n",
    "def create_distribution(size, p):\n",
    "    assert(p>=0.0 and p<=1.0),\"Straight outta bounds\"\n",
    "    sigma = 1\n",
    "    mu = 0\n",
    "    s = size\n",
    "\n",
    "    x = np.linspace(0,1,s)\n",
    "    y=1/( np.sqrt(2 * np.pi) *np.exp((-6*p+6*x)**2 / 2))\n",
    "    y=y/0.4\n",
    "\n",
    "    maxind = np.searchsorted(y,1.0)\n",
    "    minind = np.searchsorted(y,0.0)\n",
    "\n",
    "    y=y[minind:maxind]\n",
    "    np.random.shuffle(y)\n",
    "\n",
    "    return y"
   ]
  },
  {
   "cell_type": "code",
   "execution_count": 4,
   "metadata": {
    "collapsed": false
   },
   "outputs": [],
   "source": [
    "#Initialize the World Grid and assign numbers to countries. Need to make this dynamic\n",
    "def initialize_world(m, n, num_attributes, num_countries):\n",
    "    world = np.empty([m, n, num_attributes+2], dtype = float)\n",
    "    no = num_countries/2\n",
    "    for k in range(1, num_countries+1):\n",
    "        if k <= no:\n",
    "            naxis = 0\n",
    "            maxis = k\n",
    "        else:\n",
    "            naxis = 1\n",
    "            maxis = k-no\n",
    "            \n",
    "        world[(maxis-1)*M/no : maxis*M/no, ((naxis)/2)*N : ((naxis+1)/2)*N,0]=k\n",
    "    \n",
    "    for i in range(M):\n",
    "        for j in range(N):\n",
    "            world[i,j,-2] = i\n",
    "            world[i,j,-1] = j\n",
    "    return world\n"
   ]
  },
  {
   "cell_type": "code",
   "execution_count": 5,
   "metadata": {
    "collapsed": false
   },
   "outputs": [],
   "source": [
    "#Initialize the Dictionary representing each country and their attribute values\n",
    "#print(len(attributes))\n",
    "#print(np.zeros( len(attributes)))\n",
    "def initialize_country_properties(num_countries):\n",
    "    country_properties = {}\n",
    "    for i in range(1, num_countries + 1):\n",
    "        value = np.zeros(len(attributes))\n",
    "        value[0] = i\n",
    "        value[1] = np.random.uniform(0.3, 0.8)      #Popdensity\n",
    "        value[2] = np.random.uniform()              #Wealth\n",
    "        value[3] = np.random.uniform()              #Elevation\n",
    "        value[4] = np.random.uniform(0.0,0.07)       #Birth Rate1 \n",
    "        value[5] = np.random.uniform(0.0,0.0001)     #Birth Rate2\n",
    "        value[6] = np.random.uniform(0.0,0.02)      #Death Rate1 \n",
    "        value[7] = np.random.uniform(0.0,0.0004)     #Death Rate2\n",
    "        country_properties[i] = value\n",
    "    #print(country_properties)\n",
    "    return country_properties"
   ]
  },
  {
   "cell_type": "code",
   "execution_count": 6,
   "metadata": {
    "collapsed": false
   },
   "outputs": [],
   "source": [
    "def distribute_values(M, N, dataArray):\n",
    "    \n",
    "    no = num_countries/2\n",
    "    tempdiff = 30.0/M\n",
    "    naxis = 0\n",
    "    maxis = 0\n",
    "    \n",
    "    #print(dataArray)\n",
    "    for k in dataArray:\n",
    "        if k <= no:\n",
    "            naxis = 0\n",
    "            maxis = k\n",
    "        else:\n",
    "            naxis = 1\n",
    "            maxis = k-no\n",
    "                \n",
    "        for i in range(1,4):\n",
    "            #dist = create_distribution(world[:,:,i].size,dataArray[k][i] )\n",
    "            \n",
    "            dist = create_distribution(world[(maxis-1)*M/no : maxis*M/no, ((naxis)/2)*N : ((naxis+1)/2)*N,i].size, dataArray[k][i])\n",
    "            dist = np.reshape(dist, world[(maxis-1)*M/no : maxis*M/no, ((naxis)/2)*N : ((naxis+1)/2)*N,i].shape)\n",
    "            \n",
    "            if(i == 1):\n",
    "                world[(maxis-1)*M/no : maxis*M/no, ((naxis)/2)*N : ((naxis+1)/2)*N,i] = dist*POP_LIMIT\n",
    "                totalpop = np.sum(dist)*POP_LIMIT\n",
    "                dataArray[k][len(attributes) - 2] = totalpop\n",
    "                world[(maxis-1)*M/no : maxis*M/no, ((naxis)/2)*N : ((naxis+1)/2)*N,len(attributes) - 2] = totalpop\n",
    "                \n",
    "            else:\n",
    "                world[(maxis-1)*M/no : maxis*M/no, ((naxis)/2)*N : ((naxis+1)/2)*N,i] = dist\n",
    "       \n",
    "        #world[(maxis-1)*M/no:maxis*M/no, ((naxis)/2)*N: ((naxis+1)/2)*N,len(attributes)-1] =\n",
    "        #POP_LIMIT* world[(maxis-1)*M/no:maxis*M/no, ((naxis)/2)*N: ((naxis+1)/2)*N,1]\n",
    "        #totalpop = np.sum(world[(maxis-1)*M/no:maxis*M/no, ((naxis)/2)*N: ((naxis+1)/2)*N,len(attributes)-1])\n",
    "        #dataArray[k][len(attributes) - 1] = totalpop\n",
    "        \n",
    "        for i in range(4,8):\n",
    "            world[(maxis-1)*M/no : maxis*M/no, ((naxis)/2)*N : ((naxis+1)/2)*N,i] = dataArray[k][i]\n",
    "            \n",
    "    for i in range(M): #3D: Added temperature\n",
    "        world[i,:,9] = 30-i*tempdiff\n",
    "        \n",
    "    #print(dataArray)"
   ]
  },
  {
   "cell_type": "code",
   "execution_count": 7,
   "metadata": {
    "collapsed": false
   },
   "outputs": [],
   "source": [
    "#Population change logistic equation\n",
    "def pop_change(dataArray):\n",
    "    no = num_countries/2\n",
    "    naxis = 0\n",
    "    maxis = 0\n",
    "    w2 = np.square(world[:,:,1])\n",
    "    \n",
    "    for k in dataArray:\n",
    "        if k <= no:\n",
    "            naxis = 0\n",
    "            maxis = k\n",
    "        else:\n",
    "            naxis = 1\n",
    "            maxis = k-no\n",
    "        \n",
    "        a = dataArray[k][4]-dataArray[k][6]\n",
    "        b = dataArray[k][5]+dataArray[k][7]\n",
    "        p = world[(maxis-1)*M/no : maxis*M/no, ((naxis)/2)*N : ((naxis+1)/2)*N,1]\n",
    "        p2 = np.square(p)\n",
    "        delp = p*a-p2*b\n",
    "        delp2 = -dataArray[k][6]*p - dataArray[k][7]*p2\n",
    "        \n",
    "        temp = world[(maxis-1)*M/no : maxis*M/no, ((naxis)/2)*N : ((naxis+1)/2)*N,1]\n",
    "        #print(temp.shape)\n",
    "        btemp = ((temp+delp) < POP_LIMIT)\n",
    "        #print(btemp.shape)\n",
    "        #print(delp.shape)\n",
    "        temp[btemp] += delp[btemp]\n",
    "        #print(temp.shape)\n",
    "        temp[np.invert(btemp)] += delp2[np.invert(btemp)]\n",
    "        #print(temp.shape)\n",
    "        \n",
    "        world[(maxis-1)*M/no : maxis*M/no, ((naxis)/2)*N : ((naxis+1)/2)*N,1] = temp\n",
    "        totalpop = np.sum(world[(maxis-1)*M/no : maxis*M/no, ((naxis)/2)*N : ((naxis+1)/2)*N,1])\n",
    "        #print(world[(maxis-1)*M/no : maxis*M/no, ((naxis)/2)*N : ((naxis+1)/2)*N,1]>POP_LIMIT\n",
    "        dataArray[k][len(attributes) - 2] = totalpop\n",
    "        \n",
    "    \n",
    "    "
   ]
  },
  {
   "cell_type": "code",
   "execution_count": 8,
   "metadata": {
    "collapsed": false
   },
   "outputs": [],
   "source": [
    "#Find best countries for each cell to move to\n",
    "def findIntMatrix(dataArray, w1 = WEIGHTW, w2 = WEIGHTP):\n",
    "    destMatrix = np.zeros((M,N))\n",
    "    scoreMatrix = np.zeros((M,N,num_countries))\n",
    "    no = num_countries/2\n",
    "    naxis = 0\n",
    "    maxis = 0\n",
    "    \n",
    "    for k in dataArray:\n",
    "        if k <= no:\n",
    "            naxis = 0\n",
    "            maxis = k\n",
    "        else:\n",
    "            naxis = 1\n",
    "            maxis = k-no\n",
    "        \n",
    "        for l in dataArray:\n",
    "            if(l==k):\n",
    "                scoreMatrix[(maxis-1)*M/no : maxis*M/no, ((naxis)/2)*N : ((naxis+1)/2)*N,l-1] = -2\n",
    "            else:\n",
    "                cw = np.ones(world[(maxis-1)*M/no : maxis*M/no, ((naxis)/2)*N : ((naxis+1)/2)*N,1].shape)*dataArray[l][2]\n",
    "                cp = np.ones(world[(maxis-1)*M/no : maxis*M/no, ((naxis)/2)*N : ((naxis+1)/2)*N,1].shape)*(np.abs(dataArray[l][1]-0.5))\n",
    "                w = w1*(cw - world[(maxis-1)*M/no : maxis*M/no, ((naxis)/2)*N : ((naxis+1)/2)*N,1])\n",
    "                p = w2*cp\n",
    "       \n",
    "                scoreMatrix[(maxis-1)*M/no : maxis*M/no, ((naxis)/2)*N : ((naxis+1)/2)*N,l-1] = w+p\n",
    "        \n",
    "        destMatrix = np.argmax(scoreMatrix, axis = 2) + 1\n",
    "        #print(destMatrix)\n",
    "               \n",
    "    return destMatrix\n",
    "#findIntMatrix(country_properties)"
   ]
  },
  {
   "cell_type": "code",
   "execution_count": 9,
   "metadata": {
    "collapsed": false
   },
   "outputs": [],
   "source": [
    "#Return the best country and the desirability to move to over there\n",
    "def return_international_matrix():\n",
    "    matrix = findIntMatrix(country_properties)\n",
    "    result = desirable_location_country()\n",
    "    answer = np.zeros(matrix.shape, dtype = object)\n",
    "    for i in range(0, len(answer)):\n",
    "        for j in range(0, len(answer[0])):\n",
    "            answer[i][j] = (matrix[i][j], result[matrix[i][j]])\n",
    "    print(answer)\n",
    "    return answer\n",
    "#return_international_matrix()"
   ]
  },
  {
   "cell_type": "code",
   "execution_count": 10,
   "metadata": {
    "collapsed": false
   },
   "outputs": [],
   "source": [
    "#Return the index of the most desirable location in each country by wealth \n",
    "def desirable_location_country():\n",
    "    result = {}\n",
    "    naxis = 0\n",
    "    maxis = 0\n",
    "    no = num_countries/2\n",
    "    \n",
    "    for k in range(1, num_countries+1):\n",
    "        \n",
    "        if k <= no:\n",
    "            naxis = 0\n",
    "            maxis = k\n",
    "        else:\n",
    "            naxis = 1\n",
    "            maxis = k-no\n",
    "        wealth = world[(maxis-1)*M/no : maxis*M/no, ((naxis)/2)*N : ((naxis+1)/2)*N, 2]\n",
    "        a = world[(maxis-1)*M/no : maxis*M/no, ((naxis)/2)*N : ((naxis+1)/2)*N]\n",
    "        flat = wealth.flatten()\n",
    "        c_1 = flat.argsort()[-1:]\n",
    "        x_idx, y_idx = np.unravel_index(c_1, wealth.shape)\n",
    "        i = a[x_idx,y_idx,-2]\n",
    "        j = a[x_idx,y_idx,-1]\n",
    "        #print(i.astype(int)[0])\n",
    "        result[k] = (i.astype(int)[0], j.astype(int)[0])       \n",
    "    print(result)\n",
    "    return result\n",
    "#desirable_location_country()"
   ]
  },
  {
   "cell_type": "markdown",
   "metadata": {},
   "source": [
    "### find_local_dest"
   ]
  },
  {
   "cell_type": "code",
   "execution_count": 11,
   "metadata": {
    "collapsed": false
   },
   "outputs": [],
   "source": [
    "#Recursive definition to find the local destination in the country\n",
    "def find_local_dest(country, w, p, i ,j,ww,wp):\n",
    "    if (country.shape == (1,1,len(attributes)+2)):\n",
    "        d = desirability(w,country[0,0,2],p,country[0,0,1],i,country[0,0,-2],j,country[0,0,-1],ww,wp)\n",
    "        #print (country)\n",
    "        return np.array([country[0,0,-1],country[0,0,-1],d])\n",
    "    countries = []\n",
    "    shape = country.shape\n",
    "    if (shape[0] == 1):\n",
    "        countries.append(country[0:1, 0: shape[1] // 2])\n",
    "        countries.append(country[0:1, (shape[1] // 2): shape[1]])\n",
    "    if (shape[1] == 1):\n",
    "        countries.append(country[0: shape[0] // 2, 0: 1])\n",
    "        countries.append(country[shape[0] // 2: shape[0], 0:1])\n",
    "    if(shape[0] > 1):\n",
    "        x = shape[0] // 2\n",
    "    if(shape[1] > 1):\n",
    "        y = shape[1] // 2\n",
    "    #N=N+1\n",
    "    if (shape[0] is not 1 and shape[1] is not 1):\n",
    "        countries.append(country[0: x,0: y]) #Top Left\n",
    "        countries.append(country[x :shape[0],0:y])#Bottom Left\n",
    "        countries.append(country[0: x,y: shape[1]]) #Top Right\n",
    "        countries.append(country[x : shape[0], y:shape[1]]) # Bottom Right  \n",
    "    \n",
    "    wealth = np.zeros(len(countries))\n",
    "    population = np.zeros(len(countries))\n",
    "    coordi = np.zeros(len(countries))\n",
    "    coordj = np.zeros(len(countries))\n",
    "    \n",
    "    for k in range(len(countries)):\n",
    "        wealth[k] = np.sum(countries[k][:,:,2]) / (np.shape(countries[k])[0] * np.shape(countries[k])[1])\n",
    "    \n",
    "    for k in range(len(countries)):\n",
    "        population[k] = np.sum(countries[k][:,:,1]) / (np.shape(countries[k])[0] * np.shape(countries[k])[1]) \n",
    "    \n",
    "    for k in range(len(countries)):\n",
    "        if(countries[k].shape[0]==1):\n",
    "            coordi[k] = countries[k][0,0,-2]\n",
    "        else: coordi[k] = (countries[k][0,0,-2]+countries[k][-1,0,-2])/2\n",
    "    \n",
    "    for k in range(len(countries)):\n",
    "        if(countries[k].shape[1]==1):\n",
    "            coordj[k] = countries[k][0,0,-1]\n",
    "        else: coordj[k] = (countries[k][0,0,-1]+countries[k][0,-1,-1])/2\n",
    "    \n",
    "    x = np.zeros(len(countries))\n",
    "    for k in range(len(countries)):\n",
    "        x[k] = desirability(w,wealth[k], p, population[k], i, coordi[k],j,  coordj[k], ww,wp) #Pass the correct arguments for location\n",
    "    #print(x)\n",
    "    #print(np.argmax(x))\n",
    "    return find_local_dest(countries[np.argmax(x)], w, p, i, j, ww, wp)"
   ]
  },
  {
   "cell_type": "code",
   "execution_count": 12,
   "metadata": {
    "collapsed": true
   },
   "outputs": [],
   "source": [
    "def desirability(w1,w2,p1,p2,i1,i2,j1,j2, weightw, weightp):   #(W_source, W_dest, pop_source, pop_dest, x_source, x_dest, y...)\n",
    "    distance = math.sqrt((j1 - j2)**2+(i1 - i2)**2)\n",
    "    if distance == 0:\n",
    "        return -999\n",
    "    w = w2 - w1\n",
    "    p = (0.5 - math.fabs(0.5 - p1/POP_LIMIT)) * 2\n",
    "    des = ((w)*weightw + p*weightp)/distance\n",
    "    #print (distance)\n",
    "    #print(w)\n",
    "    #print(p)\n",
    "    #print(\"END\")\n",
    "    return des"
   ]
  },
  {
   "cell_type": "markdown",
   "metadata": {},
   "source": [
    "makeLocalDestMatrix(): Makes a matrix with the location and desirability of the most desirable destination cell."
   ]
  },
  {
   "cell_type": "code",
   "execution_count": 13,
   "metadata": {
    "collapsed": true
   },
   "outputs": [],
   "source": [
    "def makeLocalDestMatrix(): #Return a matrix containing most desirable destination for each cell in format \n",
    "    #[i,j,delta]\n",
    "    dest = np.zeros((M,N,3))\n",
    "    #print(\"dest\")\n",
    "    #print(dest.shape)\n",
    "    naxis = 0\n",
    "    maxis = 0\n",
    "    no = num_countries/2\n",
    "    \n",
    "    for i in range(M):\n",
    "        for j in range(N):\n",
    "            k = world[i,j,0]\n",
    "            if k <= no:\n",
    "                naxis = 0\n",
    "                maxis = k\n",
    "            else:\n",
    "                naxis = 1\n",
    "                maxis = k-no\n",
    "            #Add country finder-done\n",
    "            country = world[(maxis-1)*M/no : maxis*M/no, ((naxis)/2)*N : ((naxis+1)/2)*N]\n",
    "            #print(\"country\")\n",
    "            #print(k)\n",
    "            #print(\"cend\")\n",
    "            a =  find_local_dest(country, world[i,j,1], world[i,j,2], world[i,j,-2],world[i,j,-1],WEIGHTW,WEIGHTP)\n",
    "            dest[i,j,0] = a[0]\n",
    "            dest[i,j,1] = a[1]\n",
    "            dest[i,j,2] = a[2]\n",
    "    return dest\n",
    "    "
   ]
  },
  {
   "cell_type": "markdown",
   "metadata": {},
   "source": [
    "migration(): Initiates all migration functions"
   ]
  },
  {
   "cell_type": "code",
   "execution_count": 14,
   "metadata": {
    "collapsed": false
   },
   "outputs": [],
   "source": [
    "def migration(dataArray,rho1,rho2):\n",
    "    world_temp = np.copy(world)\n",
    "    no = num_countries/2\n",
    "    naxis = 0\n",
    "    maxis = 0\n",
    "    localdest = makeLocalDestMatrix()\n",
    "    #intdest = makeInternationalDestMatrix()\n",
    "    \n",
    "    for i in range(M):\n",
    "        for j in range(N):\n",
    "            \n",
    "            \n",
    "            n = world_temp[i,j,1]*rho1*localdest[i,j,2]\n",
    "            #m = world_temp[i,j,1]*rho2*intdest[i,j,2]\n",
    "            #print(n)\n",
    "            if(world[localdest[i][j][0],localdest[i][j][1],1]+n < POP_LIMIT and world[localdest[i][j][0],localdest[i][j][1],1]+n>0):\n",
    "                if(world[i,j,1]-n < POP_LIMIT and world[localdest[i][j][0],localdest[i][j][1],1]-n>0):\n",
    "                    world[localdest[i][j][0],localdest[i][j][1],1] += n\n",
    "                    world[i,j,1]-= n\n",
    "                \n",
    "            #if(world[intdest[i][j][0],intdest[i][j][1],1]+m < POP_LIMIT):\n",
    "               # world[intdest[i][j][0],intdest[i][j][1],1] += m\n",
    "               # world[i,j,1]-= m\n",
    "    \n",
    "    for k in dataArray:\n",
    "        if k <= no:\n",
    "            naxis = 0\n",
    "            maxis = k\n",
    "        else:\n",
    "            naxis = 1\n",
    "            maxis = k-no\n",
    "        totalpop = np.sum(world[(maxis-1)*M/no : maxis*M/no, ((naxis)/2)*N : ((naxis+1)/2)*N,1])\n",
    "        #print(world[(maxis-1)*M/no : maxis*M/no, ((naxis)/2)*N : ((naxis+1)/2)*N,1]>POP_LIMIT\n",
    "        dataArray[k][len(attributes) - 2] = totalpop\n",
    "    "
   ]
  },
  {
   "cell_type": "code",
   "execution_count": 15,
   "metadata": {
    "collapsed": true
   },
   "outputs": [],
   "source": [
    "def engine(country_properties,rho1,rho2):\n",
    "    pop_change(country_properties)\n",
    "    migration(country_properties, rho1, rho2)\n",
    "    #update_pop()"
   ]
  },
  {
   "cell_type": "code",
   "execution_count": 16,
   "metadata": {
    "collapsed": false,
    "scrolled": true
   },
   "outputs": [
    {
     "name": "stderr",
     "output_type": "stream",
     "text": [
      "-c:13: DeprecationWarning: using a non-integer number instead of an integer will result in an error in the future\n",
      "-c:20: DeprecationWarning: using a non-integer number instead of an integer will result in an error in the future\n",
      "-c:21: DeprecationWarning: using a non-integer number instead of an integer will result in an error in the future\n",
      "-c:24: DeprecationWarning: using a non-integer number instead of an integer will result in an error in the future\n",
      "-c:27: DeprecationWarning: using a non-integer number instead of an integer will result in an error in the future\n",
      "-c:30: DeprecationWarning: using a non-integer number instead of an integer will result in an error in the future\n",
      "-c:38: DeprecationWarning: using a non-integer number instead of an integer will result in an error in the future\n",
      "-c:19: DeprecationWarning: using a non-integer number instead of an integer will result in an error in the future\n",
      "-c:22: DeprecationWarning: using a non-integer number instead of an integer will result in an error in the future\n",
      "-c:23: DeprecationWarning: using a non-integer number instead of an integer will result in an error in the future\n",
      "-c:26: DeprecationWarning: using a non-integer number instead of an integer will result in an error in the future\n"
     ]
    }
   ],
   "source": [
    "#Make world\n",
    "world = initialize_world(M, N, len(attributes), num_countries)\n",
    "country_properties = initialize_country_properties(num_countries)\n",
    "distribute_values(M,N,country_properties)\n",
    "m = findIntMatrix(country_properties, 0.75,  0.25) \n",
    "#print(\"Destination matrix:\")\n",
    "#print(m)\n",
    "a = find_local_dest(world,0.5,0.8,1,1,WEIGHTW,WEIGHTP)\n",
    "#print(a.shape)\n",
    "#print(a[0],a[1],a[2])\n",
    "#print(a)\n",
    "##print(a[0])\n",
    "#print(a[1])\n",
    "#print(a[2])\n"
   ]
  },
  {
   "cell_type": "code",
   "execution_count": 17,
   "metadata": {
    "collapsed": false
   },
   "outputs": [],
   "source": [
    "#def update_pop():\n",
    "    "
   ]
  },
  {
   "cell_type": "code",
   "execution_count": 18,
   "metadata": {
    "collapsed": false
   },
   "outputs": [],
   "source": [
    "#Plot the World Grid\n",
    "def plot_world():\n",
    "    for k in country_properties:\n",
    "        print(\"Country \"+str(k)+\" : \"+str(np.floor(country_properties[k][len(attributes) - 2])))\n",
    "    print(\"The plots represent different attributes of the world grid. The first plot is shows the different countries. The other plots show different attributes on a cellular level.\")\n",
    "#\"Country No \" , \"Population Density\", \"Wealth Score\", \"Elevation\", \"Birth Rate1\",\"Birth Rate2\" ,\"Death Rate1\", \"Death Rate2\",  \"Population Counter\", \"Temperature\"\n",
    "    #show_grid(world[:,:,0])\n",
    "    show_grid(world[:,:,1])\n",
    "    #show_grid(world[:,:,2])\n",
    "    #show_grid(world[:,:,3])\n",
    "    #show_grid(world[:,:,4])\n",
    "    #show_grid(world[:,:,5])\n",
    "    #show_grid(world[:,:,6])\n",
    "    #show_grid(world[:,:,7])\n",
    "    #show_grid(world[:,:,8])\n",
    "    #show_grid(world[:,:,9])\n",
    "    #engine(country_properties,0.1,0.1)\n",
    "    for k in country_properties:\n",
    "        print(\"Country \"+str(k)+\" : \"+str(np.floor(country_properties[k][len(attributes) - 2])))\n",
    "    \n",
    "\n",
    "#Comment to hide\n",
    "#plot_world()"
   ]
  },
  {
   "cell_type": "code",
   "execution_count": 19,
   "metadata": {
    "collapsed": false
   },
   "outputs": [
    {
     "name": "stdout",
     "output_type": "stream",
     "text": [
      "Initial population\n",
      "Country 1 : 4247.0\n",
      "Country 2 : 4897.0\n",
      "Country 3 : 4322.0\n",
      "Country 4 : 4568.0\n",
      "Country 5 : 4291.0\n",
      "Country 6 : 4942.0\n",
      "Country 7 : 4225.0\n",
      "Country 8 : 4941.0\n"
     ]
    },
    {
     "data": {
      "image/png": "[encoded data removed]",
      "text/plain": [
       "<matplotlib.figure.Figure at 0x1064229e8>"
      ]
     },
     "metadata": {},
     "output_type": "display_data"
    },
    {
     "name": "stderr",
     "output_type": "stream",
     "text": [
      "-c:18: DeprecationWarning: using a non-integer number instead of an integer will result in an error in the future\n",
      "-c:23: DeprecationWarning: using a non-integer number instead of an integer will result in an error in the future\n",
      "-c:33: DeprecationWarning: using a non-integer number instead of an integer will result in an error in the future\n",
      "-c:34: DeprecationWarning: using a non-integer number instead of an integer will result in an error in the future\n",
      "-c:20: DeprecationWarning: using a non-integer number instead of an integer will result in an error in the future\n",
      "-c:16: DeprecationWarning: using a non-integer number instead of an integer will result in an error in the future\n",
      "-c:17: DeprecationWarning: using a non-integer number instead of an integer will result in an error in the future\n",
      "-c:32: DeprecationWarning: using a non-integer number instead of an integer will result in an error in the future\n"
     ]
    },
    {
     "data": {
      "image/png": "[encoded data removed]",
      "text/plain": [
       "<matplotlib.figure.Figure at 0x10b1149e8>"
      ]
     },
     "metadata": {},
     "output_type": "display_data"
    },
    {
     "data": {
      "image/png": "[encoded data removed]",
      "text/plain": [
       "<matplotlib.figure.Figure at 0x10afbceb8>"
      ]
     },
     "metadata": {},
     "output_type": "display_data"
    },
    {
     "data": {
      "image/png": "[encoded data removed]",
      "text/plain": [
       "<matplotlib.figure.Figure at 0x10b1b21d0>"
      ]
     },
     "metadata": {},
     "output_type": "display_data"
    },
    {
     "data": {
      "image/png": "[encoded data removed]",
      "text/plain": [
       "<matplotlib.figure.Figure at 0x10b466278>"
      ]
     },
     "metadata": {},
     "output_type": "display_data"
    },
    {
     "data": {
      "image/png": "[encoded data removed]",
      "text/plain": [
       "<matplotlib.figure.Figure at 0x10b33e3c8>"
      ]
     },
     "metadata": {},
     "output_type": "display_data"
    },
    {
     "data": {
      "image/png": "[encoded data removed]",
      "text/plain": [
       "<matplotlib.figure.Figure at 0x10b4e6eb8>"
      ]
     },
     "metadata": {},
     "output_type": "display_data"
    },
    {
     "name": "stdout",
     "output_type": "stream",
     "text": [
      "Final population\n",
      "Country 1 : 3835.0\n",
      "Country 2 : 3301.0\n",
      "Country 3 : 4849.0\n",
      "Country 4 : 6585.0\n",
      "Country 5 : 5919.0\n",
      "Country 6 : 10040.0\n",
      "Country 7 : 3240.0\n",
      "Country 8 : 8081.0\n"
     ]
    },
    {
     "data": {
      "image/png": "[encoded data removed]",
      "text/plain": [
       "<matplotlib.figure.Figure at 0x10b478198>"
      ]
     },
     "metadata": {},
     "output_type": "display_data"
    }
   ],
   "source": [
    "#Shows how population changes with time.\n",
    "def showPopChange():\n",
    "    print(\"Initial population\")\n",
    "    for k in country_properties:\n",
    "        print(\"Country \"+str(k)+\" : \"+str(np.floor(country_properties[k][len(attributes) - 2])))\n",
    "\n",
    "    show_grid(world[:,:,1])\n",
    "    plt.show()\n",
    "    t=100\n",
    "    x = np.zeros(t)\n",
    "    y = np.zeros((num_countries,t))\n",
    "    for i in range(t):\n",
    "        x[i] = i\n",
    "        for k in country_properties:\n",
    "            y[k-1][i] = np.floor(country_properties[k][len(attributes) - 2])\n",
    "        engine(country_properties,0.01,0.1)\n",
    "        if(i%(t/5)==0):\n",
    "            show_grid(world[:,:,1])\n",
    "            plt.show()\n",
    "\n",
    "    plt.plot(x,y[0,:],'r',x,y[1,:],'b',x,y[2,:],'g',x,y[3,:],'c',x,y[4,:],'r--',x,y[5,:],'b--',x,y[6,:],'g--',x,y[7,:],'c--')\n",
    "    plt.show()          \n",
    "    print(\"Final population\")\n",
    "    for k in country_properties:\n",
    "        print(\"Country \"+str(k)+\" : \"+str(np.floor(country_properties[k][len(attributes) - 2])))\n",
    "    show_grid(world[:,:,1])\n",
    "    plt.show()\n",
    "    \n",
    "    \n",
    "#Comment to hide\n",
    "showPopChange()"
   ]
  },
  {
   "cell_type": "code",
   "execution_count": null,
   "metadata": {
    "collapsed": false
   },
   "outputs": [],
   "source": []
  },
  {
   "cell_type": "code",
   "execution_count": null,
   "metadata": {
    "collapsed": true
   },
   "outputs": [],
   "source": []
  }
 ],
 "metadata": {
  "celltoolbar": "Raw Cell Format",
  "kernelspec": {
   "display_name": "IPython (Python 3)",
   "language": "python",
   "name": "python3"
  },
  "language_info": {
   "codemirror_mode": {
    "name": "ipython",
    "version": 3
   },
   "file_extension": ".py",
   "mimetype": "text/x-python",
   "name": "python",
   "nbconvert_exporter": "python",
   "pygments_lexer": "ipython3",
   "version": "3.5.1"
  }
 },
 "nbformat": 4,
 "nbformat_minor": 0
}

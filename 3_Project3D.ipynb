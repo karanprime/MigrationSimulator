{
 "cells": [
  {
   "cell_type": "markdown",
   "metadata": {},
   "source": [
    "#  Project 3D\n",
    "\n",
    "**by Kartikeya Kumar and Karan Shah**"
   ]
  },
  {
   "cell_type": "code",
   "execution_count": 1,
   "metadata": {
    "collapsed": true
   },
   "outputs": [],
   "source": [
    "import numpy as np\n",
    "import matplotlib.pyplot as plt # Core plotting support\n",
    "%matplotlib inline\n",
    "\n",
    "np.random.seed(1611044230)\n",
    "\n",
    "def show_grid (grid):\n",
    "    plt.matshow (grid)"
   ]
  },
  {
   "cell_type": "code",
   "execution_count": 2,
   "metadata": {
    "collapsed": false
   },
   "outputs": [],
   "source": [
    "#Global Variables\n",
    "num_countries = 8 #No of countries on the map\n",
    "M = 20 #Grid size M x N\n",
    "N = 20\n",
    "POP_DENSITY = 100 #Max number of people in each cell\n",
    "attributes = [\"Country No \" , \"Population Density\", \"Wealth Score\", \"Elevation\", \"Birth Rate1\",\"Birth Rate2\" ,\"Death Rate1\", \"Death Rate2\",  \"Population Counter\", \"Temperature\"]\n"
   ]
  },
  {
   "cell_type": "code",
   "execution_count": 3,
   "metadata": {
    "collapsed": false
   },
   "outputs": [],
   "source": [
    "# It takes in mean and size and returns a Gaussian distribution as proposed in conceptual model. \n",
    "# Check distributionGen.ipnyb for plots.\n",
    "\n",
    "def create_distribution(size, p):\n",
    "    assert(p>=0.0 and p<=1.0),\"Straight outta bounds\"\n",
    "    sigma = 1\n",
    "    mu = 0\n",
    "    s = size\n",
    "\n",
    "    x = np.linspace(0,1,s)\n",
    "    y=1/( np.sqrt(2 * np.pi) *np.exp((-6*p+6*x)**2 / 2))\n",
    "    y=y/0.4\n",
    "\n",
    "    maxind = np.searchsorted(y,1.0)\n",
    "    minind = np.searchsorted(y,0.0)\n",
    "\n",
    "    y=y[minind:maxind]\n",
    "    np.random.shuffle(y)\n",
    "\n",
    "    return y"
   ]
  },
  {
   "cell_type": "code",
   "execution_count": 4,
   "metadata": {
    "collapsed": false
   },
   "outputs": [],
   "source": [
    "#Initialize the World Grid and assign numbers to countries. Need to make this dynamic\n",
    "def initialize_world(m, n, num_attributes, num_countries):\n",
    "    world = np.empty([m, n, num_attributes], dtype = float)\n",
    "    no = num_countries/2\n",
    "    for k in range(1, num_countries+1):\n",
    "        if k <= no:\n",
    "            naxis = 0\n",
    "            maxis = k\n",
    "        else:\n",
    "            naxis = 1\n",
    "            maxis = k-no\n",
    "            \n",
    "        world[(maxis-1)*M/no : maxis*M/no, ((naxis)/2)*N : ((naxis+1)/2)*N,0]=k\n",
    "    \n",
    "    return world\n"
   ]
  },
  {
   "cell_type": "code",
   "execution_count": 5,
   "metadata": {
    "collapsed": false
   },
   "outputs": [],
   "source": [
    "#Initialize the Dictionary representing each country and their attribute values\n",
    "#print(len(attributes))\n",
    "#print(np.zeros( len(attributes)))\n",
    "def initialize_country_properties(num_countries):\n",
    "    country_properties = {}\n",
    "    for i in range(1, num_countries + 1):\n",
    "        value = np.zeros(len(attributes))\n",
    "        value[0] = i\n",
    "        value[1] = np.random.uniform(0.3, 0.8)      #Popdensity\n",
    "        value[2] = np.random.uniform()              #Wealth\n",
    "        value[3] = np.random.uniform()              #Elevation\n",
    "        value[4] = np.random.uniform(0.0,0.07)       #Birth Rate1 \n",
    "        value[5] = np.random.uniform(0.0,0.0001)     #Birth Rate2\n",
    "        value[6] = np.random.uniform(0.0,0.02)      #Death Rate1 \n",
    "        value[7] = np.random.uniform(0.0,0.0004)     #Death Rate2\n",
    "        country_properties[i] = value\n",
    "    #print(country_properties)\n",
    "    return country_properties"
   ]
  },
  {
   "cell_type": "code",
   "execution_count": 6,
   "metadata": {
    "collapsed": false
   },
   "outputs": [],
   "source": [
    "def distribute_values(M, N, dataArray):\n",
    "    \n",
    "    no = num_countries/2\n",
    "    tempdiff = 30.0/M\n",
    "    naxis = 0\n",
    "    maxis = 0\n",
    "    \n",
    "    #print(dataArray)\n",
    "    for k in dataArray:\n",
    "        if k <= no:\n",
    "            naxis = 0\n",
    "            maxis = k\n",
    "        else:\n",
    "            naxis = 1\n",
    "            maxis = k-no\n",
    "                \n",
    "        for i in range(1,4):\n",
    "            #dist = create_distribution(world[:,:,i].size,dataArray[k][i] )\n",
    "            \n",
    "            dist = create_distribution(world[(maxis-1)*M/no : maxis*M/no, ((naxis)/2)*N : ((naxis+1)/2)*N,i].size, dataArray[k][i])\n",
    "            dist = np.reshape(dist, world[(maxis-1)*M/no : maxis*M/no, ((naxis)/2)*N : ((naxis+1)/2)*N,i].shape)\n",
    "            \n",
    "            if(i == 1):\n",
    "                world[(maxis-1)*M/no : maxis*M/no, ((naxis)/2)*N : ((naxis+1)/2)*N,i] = dist*POP_DENSITY\n",
    "                totalpop = np.sum(dist)*POP_DENSITY\n",
    "                dataArray[k][len(attributes) - 2] = totalpop\n",
    "                world[(maxis-1)*M/no : maxis*M/no, ((naxis)/2)*N : ((naxis+1)/2)*N,len(attributes) - 2] = totalpop\n",
    "                \n",
    "            else:\n",
    "                world[(maxis-1)*M/no : maxis*M/no, ((naxis)/2)*N : ((naxis+1)/2)*N,i] = dist\n",
    "       \n",
    "        #world[(maxis-1)*M/no:maxis*M/no, ((naxis)/2)*N: ((naxis+1)/2)*N,len(attributes)-1] =\n",
    "        #POP_DENSITY* world[(maxis-1)*M/no:maxis*M/no, ((naxis)/2)*N: ((naxis+1)/2)*N,1]\n",
    "        #totalpop = np.sum(world[(maxis-1)*M/no:maxis*M/no, ((naxis)/2)*N: ((naxis+1)/2)*N,len(attributes)-1])\n",
    "        #dataArray[k][len(attributes) - 1] = totalpop\n",
    "        \n",
    "        for i in range(4,8):\n",
    "            world[(maxis-1)*M/no : maxis*M/no, ((naxis)/2)*N : ((naxis+1)/2)*N,i] = dataArray[k][i]\n",
    "            \n",
    "    for i in range(M): #3D: Added temperature\n",
    "        world[i,:,9] = 30-i*tempdiff\n",
    "        \n",
    "    #print(dataArray)"
   ]
  },
  {
   "cell_type": "code",
   "execution_count": 7,
   "metadata": {
    "collapsed": false
   },
   "outputs": [],
   "source": [
    "#Population change logistic equation\n",
    "def pop_change(dataArray):\n",
    "    no = num_countries/2\n",
    "    naxis = 0\n",
    "    maxis = 0\n",
    "    w2 = np.square(world[:,:,1])\n",
    "    \n",
    "    for k in dataArray:\n",
    "        if k <= no:\n",
    "            naxis = 0\n",
    "            maxis = k\n",
    "        else:\n",
    "            naxis = 1\n",
    "            maxis = k-no\n",
    "        \n",
    "        a = dataArray[k][4]-dataArray[k][6]\n",
    "        b = dataArray[k][5]+dataArray[k][7]\n",
    "        p = world[(maxis-1)*M/no : maxis*M/no, ((naxis)/2)*N : ((naxis+1)/2)*N,1]\n",
    "        p2 = np.square(p)\n",
    "        delp = p*a-p2*b\n",
    "        delp2 = -dataArray[k][6]*p - dataArray[k][7]*p2\n",
    "        \n",
    "        temp = world[(maxis-1)*M/no : maxis*M/no, ((naxis)/2)*N : ((naxis+1)/2)*N,1]\n",
    "        #print(temp.shape)\n",
    "        btemp = ((temp+delp) < POP_DENSITY)\n",
    "        #print(btemp.shape)\n",
    "        #print(delp.shape)\n",
    "        temp[btemp] += delp[btemp]\n",
    "        #print(temp.shape)\n",
    "        temp[np.invert(btemp)] += delp2[np.invert(btemp)]\n",
    "        #print(temp.shape)\n",
    "        \n",
    "        world[(maxis-1)*M/no : maxis*M/no, ((naxis)/2)*N : ((naxis+1)/2)*N,1] = temp\n",
    "        totalpop = np.sum(world[(maxis-1)*M/no : maxis*M/no, ((naxis)/2)*N : ((naxis+1)/2)*N,1])\n",
    "        #print(world[(maxis-1)*M/no : maxis*M/no, ((naxis)/2)*N : ((naxis+1)/2)*N,1]>POP_DENSITY\n",
    "        dataArray[k][len(attributes) - 2] = totalpop\n",
    "        \n",
    "    \n",
    "    "
   ]
  },
  {
   "cell_type": "code",
   "execution_count": 8,
   "metadata": {
    "collapsed": false
   },
   "outputs": [],
   "source": [
    "#Find best countries for each cell to move to\n",
    "def findDestMatrix(dataArray, w1 = 0.75, w2 = 0.25):\n",
    "    destMatrix = np.zeros((M,N))\n",
    "    scoreMatrix = np.zeros((M,N,num_countries))\n",
    "    no = num_countries/2\n",
    "    naxis = 0\n",
    "    maxis = 0\n",
    "    \n",
    "    for k in dataArray:\n",
    "        if k <= no:\n",
    "            naxis = 0\n",
    "            maxis = k\n",
    "        else:\n",
    "            naxis = 1\n",
    "            maxis = k-no\n",
    "        \n",
    "        for l in dataArray:\n",
    "            if(l==k):\n",
    "                scoreMatrix[(maxis-1)*M/no : maxis*M/no, ((naxis)/2)*N : ((naxis+1)/2)*N,l-1] = -2\n",
    "            else:\n",
    "                cw = np.ones(world[(maxis-1)*M/no : maxis*M/no, ((naxis)/2)*N : ((naxis+1)/2)*N,1].shape)*dataArray[l][2]\n",
    "                cp = np.ones(world[(maxis-1)*M/no : maxis*M/no, ((naxis)/2)*N : ((naxis+1)/2)*N,1].shape)*(np.abs(dataArray[l][1]-0.5))\n",
    "                w = w1*(cw - world[(maxis-1)*M/no : maxis*M/no, ((naxis)/2)*N : ((naxis+1)/2)*N,1])\n",
    "                p = w2*cp\n",
    "       \n",
    "                scoreMatrix[(maxis-1)*M/no : maxis*M/no, ((naxis)/2)*N : ((naxis+1)/2)*N,l-1] = w+p\n",
    "        \n",
    "        destMatrix = np.argmax(scoreMatrix, axis = 2) + 1       \n",
    "               \n",
    "    return destMatrix"
   ]
  },
  {
   "cell_type": "code",
   "execution_count": 9,
   "metadata": {
    "collapsed": false
   },
   "outputs": [],
   "source": [
    "#Return the most desirable 3 locations in each country by wealth\n",
    "def globalDesirability():\n",
    "    result = {}\n",
    "    naxis = 0\n",
    "    maxis = 0\n",
    "    no = num_countries/2\n",
    "    \n",
    "    for k in range(1, num_countries+1):\n",
    "        if k <= no:\n",
    "            naxis = 0\n",
    "            maxis = k\n",
    "        else:\n",
    "            naxis = 1\n",
    "            maxis = k-no\n",
    "        cwealth = world[(maxis-1)*M/no : maxis*M/no, ((naxis)/2)*N : ((naxis+1)/2)*N,2]\n",
    "        #print(cwealth)\n",
    "        c = cwealth.flatten()\n",
    "        #print(c)\n",
    "        c_1 = c.argsort()[-3:]\n",
    "        #print(c_1)\n",
    "        x_idx, y_idx = np.unravel_index(c_1, cwealth.shape)\n",
    "        #Find max according to whatever function you want from cwealth\n",
    "        #Handle indices like this: i+(maxis-1)*M/no, j+((naxis)/2)*N\n",
    "        #print(list(zip(x_idx, y_idx)))\n",
    "        temp = list(zip(x_idx, y_idx))\n",
    "        for key in range(0, len(temp)):\n",
    "            a = list(temp[key])\n",
    "            a[0] = a[0] + (maxis-1)*M/no\n",
    "            a[1] = a[1] + (naxis/2)* N\n",
    "            temp[key] = a         \n",
    "        result[k] = temp\n",
    "    #print(result)\n",
    "    return result\n",
    "#result = globalDesirability()"
   ]
  },
  {
   "cell_type": "code",
   "execution_count": 10,
   "metadata": {
    "collapsed": false
   },
   "outputs": [
    {
     "name": "stdout",
     "output_type": "stream",
     "text": [
      "Destination matrix:\n",
      "[[1 1 1 1 1 1 1 1 1 1 5 5 8 5 5 5 5 5 5 5]\n",
      " [1 1 8 8 8 1 8 1 8 1 5 5 8 5 5 8 5 5 5 5]\n",
      " [1 1 1 1 1 1 1 1 1 1 5 5 8 8 5 8 5 5 5 8]\n",
      " [1 8 1 1 1 1 1 8 8 8 5 5 5 5 5 5 8 5 5 5]\n",
      " [8 1 1 8 1 1 1 8 1 1 8 5 5 5 5 5 5 5 5 8]\n",
      " [2 8 2 2 8 2 2 2 2 8 6 6 6 6 6 6 6 8 6 6]\n",
      " [2 8 2 2 2 2 2 2 2 8 6 8 6 6 6 6 6 6 6 8]\n",
      " [2 2 2 2 2 2 2 2 2 2 6 6 6 8 6 6 6 6 6 6]\n",
      " [2 8 2 8 2 2 2 2 2 2 6 6 6 8 8 6 6 6 6 8]\n",
      " [2 2 2 8 8 2 2 2 8 2 6 6 6 6 6 6 6 6 8 6]\n",
      " [3 3 3 3 3 3 8 3 3 8 7 8 7 7 7 7 7 7 7 7]\n",
      " [8 3 8 3 8 8 3 3 3 3 8 7 7 7 8 7 8 7 7 7]\n",
      " [3 3 8 3 3 3 3 3 3 3 7 7 7 8 7 7 7 8 8 7]\n",
      " [3 3 3 3 3 3 3 3 3 3 7 7 7 8 8 7 7 7 7 7]\n",
      " [3 3 3 8 3 3 3 3 3 3 7 8 8 7 7 8 8 7 7 7]\n",
      " [4 4 4 4 4 8 8 4 4 4 8 5 8 8 8 8 5 8 8 5]\n",
      " [8 8 4 8 4 4 4 4 4 8 5 8 8 8 8 8 8 5 8 8]\n",
      " [8 8 4 4 4 4 8 4 8 8 8 8 8 8 8 8 8 8 8 8]\n",
      " [8 4 4 4 4 8 4 4 4 8 8 8 5 5 8 8 8 8 8 8]\n",
      " [4 4 8 4 8 4 4 4 4 8 8 8 8 5 8 8 8 8 8 8]]\n"
     ]
    },
    {
     "name": "stderr",
     "output_type": "stream",
     "text": [
      "-c:13: DeprecationWarning: using a non-integer number instead of an integer will result in an error in the future\n",
      "-c:20: DeprecationWarning: using a non-integer number instead of an integer will result in an error in the future\n",
      "-c:21: DeprecationWarning: using a non-integer number instead of an integer will result in an error in the future\n",
      "-c:24: DeprecationWarning: using a non-integer number instead of an integer will result in an error in the future\n",
      "-c:27: DeprecationWarning: using a non-integer number instead of an integer will result in an error in the future\n",
      "-c:30: DeprecationWarning: using a non-integer number instead of an integer will result in an error in the future\n",
      "-c:38: DeprecationWarning: using a non-integer number instead of an integer will result in an error in the future\n",
      "-c:19: DeprecationWarning: using a non-integer number instead of an integer will result in an error in the future\n",
      "-c:22: DeprecationWarning: using a non-integer number instead of an integer will result in an error in the future\n",
      "-c:23: DeprecationWarning: using a non-integer number instead of an integer will result in an error in the future\n",
      "-c:26: DeprecationWarning: using a non-integer number instead of an integer will result in an error in the future\n"
     ]
    }
   ],
   "source": [
    "#Make world\n",
    "world = initialize_world(M, N, len(attributes), num_countries)\n",
    "country_properties = initialize_country_properties(num_countries)\n",
    "distribute_values(M,N,country_properties)\n",
    "m = findDestMatrix(country_properties, 0.75,  0.25) \n",
    "print(\"Destination matrix:\")\n",
    "print(m)"
   ]
  },
  {
   "cell_type": "code",
   "execution_count": 11,
   "metadata": {
    "collapsed": false
   },
   "outputs": [
    {
     "name": "stdout",
     "output_type": "stream",
     "text": [
      "Country 1 : 2004.0\n",
      "Country 2 : 2019.0\n",
      "Country 3 : 2037.0\n",
      "Country 4 : 1891.0\n",
      "Country 5 : 2023.0\n",
      "Country 6 : 2035.0\n",
      "Country 7 : 1994.0\n",
      "Country 8 : 2035.0\n",
      "The plots represent different attributes of the world grid. The first plot is shows the different countries. The other plots show different attributes on a cellular level.\n"
     ]
    },
    {
     "data": {
      "image/png": "[encoded data removed]",
      "text/plain": [
       "<matplotlib.figure.Figure at 0x107be1748>"
      ]
     },
     "metadata": {},
     "output_type": "display_data"
    },
    {
     "data": {
      "image/png": "[encoded data removed]",
      "text/plain": [
       "<matplotlib.figure.Figure at 0x10af12e48>"
      ]
     },
     "metadata": {},
     "output_type": "display_data"
    },
    {
     "data": {
      "image/png": "[encoded data removed]",
      "text/plain": [
       "<matplotlib.figure.Figure at 0x10af6e860>"
      ]
     },
     "metadata": {},
     "output_type": "display_data"
    },
    {
     "data": {
      "image/png": "[encoded data removed]",
      "text/plain": [
       "<matplotlib.figure.Figure at 0x10afc3588>"
      ]
     },
     "metadata": {},
     "output_type": "display_data"
    },
    {
     "data": {
      "image/png": "[encoded data removed]",
      "text/plain": [
       "<matplotlib.figure.Figure at 0x10af75f98>"
      ]
     },
     "metadata": {},
     "output_type": "display_data"
    },
    {
     "data": {
      "image/png": "[encoded data removed]",
      "text/plain": [
       "<matplotlib.figure.Figure at 0x10b04af28>"
      ]
     },
     "metadata": {},
     "output_type": "display_data"
    },
    {
     "data": {
      "image/png": "[encoded data removed]",
      "text/plain": [
       "<matplotlib.figure.Figure at 0x10b09acc0>"
      ]
     },
     "metadata": {},
     "output_type": "display_data"
    },
    {
     "data": {
      "image/png": "[encoded data removed]",
      "text/plain": [
       "<matplotlib.figure.Figure at 0x10b0e8e48>"
      ]
     },
     "metadata": {},
     "output_type": "display_data"
    },
    {
     "data": {
      "image/png": "[encoded data removed]",
      "text/plain": [
       "<matplotlib.figure.Figure at 0x10b2447f0>"
      ]
     },
     "metadata": {},
     "output_type": "display_data"
    },
    {
     "data": {
      "image/png": "[encoded data removed]",
      "text/plain": [
       "<matplotlib.figure.Figure at 0x10b285ba8>"
      ]
     },
     "metadata": {},
     "output_type": "display_data"
    }
   ],
   "source": [
    "#Plot the World Grid\n",
    "def plot_world():\n",
    "    for k in country_properties:\n",
    "        print(\"Country \"+str(k)+\" : \"+str(np.floor(country_properties[k][len(attributes) - 2])))\n",
    "    print(\"The plots represent different attributes of the world grid. The first plot is shows the different countries. The other plots show different attributes on a cellular level.\")\n",
    "#\"Country No \" , \"Population Density\", \"Wealth Score\", \"Elevation\", \"Birth Rate1\",\"Birth Rate2\" ,\"Death Rate1\", \"Death Rate2\",  \"Population Counter\", \"Temperature\"\n",
    "    show_grid(world[:,:,0])\n",
    "    show_grid(world[:,:,1])\n",
    "    show_grid(world[:,:,2])\n",
    "    show_grid(world[:,:,3])\n",
    "    show_grid(world[:,:,4])\n",
    "    show_grid(world[:,:,5])\n",
    "    show_grid(world[:,:,6])\n",
    "    show_grid(world[:,:,7])\n",
    "    show_grid(world[:,:,8])\n",
    "    show_grid(world[:,:,9])\n",
    "\n",
    "#Comment to hide\n",
    "plot_world()"
   ]
  },
  {
   "cell_type": "code",
   "execution_count": 12,
   "metadata": {
    "collapsed": false
   },
   "outputs": [
    {
     "name": "stdout",
     "output_type": "stream",
     "text": [
      "Initial population\n",
      "Country 1 : 2004.0\n",
      "Country 2 : 2019.0\n",
      "Country 3 : 2037.0\n",
      "Country 4 : 1891.0\n",
      "Country 5 : 2023.0\n",
      "Country 6 : 2035.0\n",
      "Country 7 : 1994.0\n",
      "Country 8 : 2035.0\n"
     ]
    },
    {
     "data": {
      "image/png": "[encoded data removed]",
      "text/plain": [
       "<matplotlib.figure.Figure at 0x106423f28>"
      ]
     },
     "metadata": {},
     "output_type": "display_data"
    },
    {
     "name": "stderr",
     "output_type": "stream",
     "text": [
      "-c:18: DeprecationWarning: using a non-integer number instead of an integer will result in an error in the future\n",
      "-c:23: DeprecationWarning: using a non-integer number instead of an integer will result in an error in the future\n",
      "-c:33: DeprecationWarning: using a non-integer number instead of an integer will result in an error in the future\n",
      "-c:34: DeprecationWarning: using a non-integer number instead of an integer will result in an error in the future\n"
     ]
    },
    {
     "data": {
      "image/png": "[encoded data removed]",
      "text/plain": [
       "<matplotlib.figure.Figure at 0x10b294748>"
      ]
     },
     "metadata": {},
     "output_type": "display_data"
    },
    {
     "data": {
      "image/png": "[encoded data removed]",
      "text/plain": [
       "<matplotlib.figure.Figure at 0x10b08bcf8>"
      ]
     },
     "metadata": {},
     "output_type": "display_data"
    },
    {
     "data": {
      "image/png": "[encoded data removed]",
      "text/plain": [
       "<matplotlib.figure.Figure at 0x10b521828>"
      ]
     },
     "metadata": {},
     "output_type": "display_data"
    },
    {
     "data": {
      "image/png": "[encoded data removed]",
      "text/plain": [
       "<matplotlib.figure.Figure at 0x107be4e10>"
      ]
     },
     "metadata": {},
     "output_type": "display_data"
    },
    {
     "data": {
      "image/png": "[encoded data removed]",
      "text/plain": [
       "<matplotlib.figure.Figure at 0x10b2d5b00>"
      ]
     },
     "metadata": {},
     "output_type": "display_data"
    },
    {
     "data": {
      "image/png": "[encoded data removed]",
      "text/plain": [
       "<matplotlib.figure.Figure at 0x10b6a7cf8>"
      ]
     },
     "metadata": {},
     "output_type": "display_data"
    },
    {
     "name": "stdout",
     "output_type": "stream",
     "text": [
      "Final population\n",
      "Country 1 : 2556.0\n",
      "Country 2 : 1700.0\n",
      "Country 3 : 2904.0\n",
      "Country 4 : 4225.0\n",
      "Country 5 : 3508.0\n",
      "Country 6 : 4935.0\n",
      "Country 7 : 544.0\n",
      "Country 8 : 4931.0\n"
     ]
    },
    {
     "data": {
      "image/png": "[encoded data removed]",
      "text/plain": [
       "<matplotlib.figure.Figure at 0x10b257d30>"
      ]
     },
     "metadata": {},
     "output_type": "display_data"
    }
   ],
   "source": [
    "#Shows how population changes with time.\n",
    "def showPopChange():\n",
    "    print(\"Initial population\")\n",
    "    for k in country_properties:\n",
    "        print(\"Country \"+str(k)+\" : \"+str(np.floor(country_properties[k][len(attributes) - 2])))\n",
    "\n",
    "    show_grid(world[:,:,1])\n",
    "    plt.show()\n",
    "    t=1000\n",
    "    x = np.zeros(t)\n",
    "    y = np.zeros((num_countries,t))\n",
    "    for i in range(t):\n",
    "        x[i] = i\n",
    "        for k in country_properties:\n",
    "            y[k-1][i] = np.floor(country_properties[k][len(attributes) - 2])\n",
    "        pop_change(country_properties)\n",
    "        if(i%(t/5)==0):\n",
    "            show_grid(world[:,:,1])\n",
    "            plt.show()\n",
    "\n",
    "    plt.plot(x,y[0,:],'r',x,y[1,:],'b',x,y[2,:],'g',x,y[3,:],'c',x,y[4,:],'r--',x,y[5,:],'b--',x,y[6,:],'g--',x,y[7,:],'c--')\n",
    "    plt.show()          \n",
    "    print(\"Final population\")\n",
    "    for k in country_properties:\n",
    "        print(\"Country \"+str(k)+\" : \"+str(np.floor(country_properties[k][len(attributes) - 2])))\n",
    "    show_grid(world[:,:,1])\n",
    "    plt.show()\n",
    "    \n",
    "#Comment to hide\n",
    "showPopChange()"
   ]
  },
  {
   "cell_type": "code",
   "execution_count": null,
   "metadata": {
    "collapsed": false
   },
   "outputs": [],
   "source": []
  },
  {
   "cell_type": "code",
   "execution_count": null,
   "metadata": {
    "collapsed": true
   },
   "outputs": [],
   "source": []
  }
 ],
 "metadata": {
  "celltoolbar": "Raw Cell Format",
  "kernelspec": {
   "display_name": "IPython (Python 3)",
   "language": "python",
   "name": "python3"
  },
  "language_info": {
   "codemirror_mode": {
    "name": "ipython",
    "version": 3
   },
   "file_extension": ".py",
   "mimetype": "text/x-python",
   "name": "python",
   "nbconvert_exporter": "python",
   "pygments_lexer": "ipython3",
   "version": "3.5.1"
  }
 },
 "nbformat": 4,
 "nbformat_minor": 0
}
